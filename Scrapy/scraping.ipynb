{
 "cells": [
  {
   "cell_type": "markdown",
   "metadata": {},
   "source": [
    "# Import scrapy"
   ]
  },
  {
   "cell_type": "code",
   "execution_count": 1,
   "metadata": {},
   "outputs": [],
   "source": [
    "import scrapy\n",
    "from scrapy.crawler import CrawlerProcess"
   ]
  },
  {
   "cell_type": "markdown",
   "metadata": {},
   "source": [
    "# Setup pipeline"
   ]
  },
  {
   "cell_type": "code",
   "execution_count": 2,
   "metadata": {},
   "outputs": [],
   "source": [
    "import os\n",
    "import json\n",
    "class JsonPipeline(object):\n",
    "    def open_spider(self, spider):\n",
    "        if not os.path.exists('./data1'):\n",
    "            os.mkdir('./data1')\n",
    "        self.file = open('./data1/songresult.jsonl', 'w')\n",
    "    \n",
    "    def close_spider(self, spider):\n",
    "        self.file.close()\n",
    "    \n",
    "    def process_item(self, item, spider):\n",
    "        line = json.dumps(dict(item)) + \"\\n\"\n",
    "        self.file.write(line)\n",
    "        return item"
   ]
  },
  {
   "cell_type": "markdown",
   "metadata": {},
   "source": [
    "# Define the spider"
   ]
  },
  {
   "cell_type": "code",
   "execution_count": 3,
   "metadata": {},
   "outputs": [],
   "source": [
    "import logging\n",
    "\n",
    "class SongSpider(scrapy.Spider):\n",
    "    name = \"song\"\n",
    "    start_urls = [\n",
    "        'https://www.billboard.com/charts/hot-100'\n",
    "    ]\n",
    "    custom_settings = {\n",
    "        'LOG_LEVEL': logging.WARNING,\n",
    "        'ITEM_PIPELINES': {'__main__.JsonPipeline': 1},\n",
    "        'FEED_FORMAT':'json',\n",
    "        'FEED_URI': './data1/songresult.json'\n",
    "    }\n",
    "    \n",
    "    def parse(self, response):\n",
    "        for song in response.css('li.chart-list__element.display--flex'):\n",
    "            yield {\n",
    "                'rank': song.css('button span span.chart-element__rank__number::text').extract_first(),\n",
    "                'song': song.css('button span span.chart-element__information__song.text--truncate.color--primary::text').extract_first(),\n",
    "                'singer': song.css('button span span.chart-element__information__artist.text--truncate.color--secondary::text').extract_first(),\n",
    "                'peak': song.css('button span span.chart-element__meta.text--center.color--secondary.text--peak::text').extract_first(),\n",
    "                'duration': song.css('button span span.chart-element__meta.text--center.color--secondary.text--week::text').extract_first(),\n",
    "            }"
   ]
  },
  {
   "cell_type": "markdown",
   "metadata": {},
   "source": [
    "# Start the crawler"
   ]
  },
  {
   "cell_type": "code",
   "execution_count": 4,
   "metadata": {},
   "outputs": [
    {
     "name": "stderr",
     "output_type": "stream",
     "text": [
      "2020-02-18 21:48:56 [scrapy.utils.log] INFO: Scrapy 1.8.0 started (bot: scrapybot)\n",
      "2020-02-18 21:48:56 [scrapy.utils.log] INFO: Versions: lxml 4.4.1.0, libxml2 2.9.9, cssselect 1.1.0, parsel 1.5.2, w3lib 1.21.0, Twisted 19.10.0, Python 3.7.4 (default, Aug 13 2019, 15:17:50) - [Clang 4.0.1 (tags/RELEASE_401/final)], pyOpenSSL 19.0.0 (OpenSSL 1.1.1d  10 Sep 2019), cryptography 2.7, Platform Darwin-18.7.0-x86_64-i386-64bit\n",
      "2020-02-18 21:48:56 [scrapy.crawler] INFO: Overridden settings: {'FEED_FORMAT': 'json', 'FEED_URI': './data1/songresult.json', 'LOG_LEVEL': 30, 'USER_AGENT': 'Mozilla/4.0 (compatible; MSIE 7.0; Windows NT 5.1)'}\n"
     ]
    }
   ],
   "source": [
    "process = CrawlerProcess({\n",
    "    'USER_AGENT': 'Mozilla/4.0 (compatible; MSIE 7.0; Windows NT 5.1)'\n",
    "})\n",
    "\n",
    "process.crawl(SongSpider)\n",
    "process.start()\n"
   ]
  },
  {
   "cell_type": "markdown",
   "metadata": {},
   "source": [
    "# Check the files"
   ]
  },
  {
   "cell_type": "code",
   "execution_count": 5,
   "metadata": {},
   "outputs": [
    {
     "name": "stdout",
     "output_type": "stream",
     "text": [
      "-rw-r--r--  1 lfs  staff  10078  2 18 21:48 ./data1/songresult.json\r\n",
      "-rw-r--r--  1 lfs  staff   9976  2 18 21:48 ./data1/songresult.jsonl\r\n"
     ]
    }
   ],
   "source": [
    "ll ./data1/songresult.*"
   ]
  },
  {
   "cell_type": "code",
   "execution_count": 6,
   "metadata": {},
   "outputs": [
    {
     "name": "stdout",
     "output_type": "stream",
     "text": [
      "{\"rank\": \"99\", \"song\": \"Camelot\", \"singer\": \"NLE Choppa\", \"peak\": \"37\", \"duration\": \"20\"}\r\n",
      "{\"rank\": \"100\", \"song\": \"ORANGE SODA\", \"singer\": \"Baby Keem\", \"peak\": \"98\", \"duration\": \"2\"}\r\n"
     ]
    }
   ],
   "source": [
    "!tail -n 2 ./data1/songresult.jsonl"
   ]
  },
  {
   "cell_type": "code",
   "execution_count": 7,
   "metadata": {},
   "outputs": [
    {
     "name": "stdout",
     "output_type": "stream",
     "text": [
      "{\"rank\": \"100\", \"song\": \"ORANGE SODA\", \"singer\": \"Baby Keem\", \"peak\": \"98\", \"duration\": \"2\"}\r\n",
      "]"
     ]
    }
   ],
   "source": [
    "!tail -n 2 ./data1/songresult.json"
   ]
  },
  {
   "cell_type": "markdown",
   "metadata": {},
   "source": [
    "# Database to store the data"
   ]
  },
  {
   "cell_type": "markdown",
   "metadata": {},
   "source": [
    "Relational database. The data of songs like rank, song, singer are related to each other. So the data can fit in a table with rows and columns. Also, information can be retrieved from other related data."
   ]
  }
 ],
 "metadata": {
  "kernelspec": {
   "display_name": "Python 3",
   "language": "python",
   "name": "python3"
  },
  "language_info": {
   "codemirror_mode": {
    "name": "ipython",
    "version": 3
   },
   "file_extension": ".py",
   "mimetype": "text/x-python",
   "name": "python",
   "nbconvert_exporter": "python",
   "pygments_lexer": "ipython3",
   "version": "3.7.4"
  }
 },
 "nbformat": 4,
 "nbformat_minor": 2
}
